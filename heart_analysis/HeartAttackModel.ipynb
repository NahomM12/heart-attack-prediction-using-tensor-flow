{
  "cells": [
    {
      "cell_type": "markdown",
      "metadata": {
        "id": "-m362ICKatHu"
      },
      "source": []
    },
    {
      "cell_type": "markdown",
      "metadata": {
        "id": "L9aJT9qAa4CZ"
      },
      "source": [
        "**Import dependencies**"
      ]
    },
    {
      "cell_type": "code",
      "execution_count": 2,
      "metadata": {
        "id": "iHbLO1xoZqUG"
      },
      "outputs": [],
      "source": [
        "from __future__ import absolute_import, division, print_function, unicode_literals\n",
        "import numpy as np\n",
        "import pandas as pd\n",
        "import matplotlib.pyplot as plt\n",
        "import tensorflow as tf\n",
        "from tensorflow import keras\n",
        "from tensorflow.keras import layers"
      ]
    },
    {
      "cell_type": "markdown",
      "metadata": {
        "id": "h4ArOMwdbaWR"
      },
      "source": [
        "**Loading data**\n",
        "\n",
        "We being by loading the .csv file using pd.read_csv().\n",
        "\n",
        "Additionally, we see some preliminary stats about the data."
      ]
    },
    {
      "cell_type": "code",
      "execution_count": null,
      "metadata": {
        "id": "qG9U8mLgbk0_"
      },
      "outputs": [],
      "source": [
        "heart_df = pd.read_csv(\"../heart_analysis/heart.csv\")\n",
        "heart_df.describe()"
      ]
    },
    {
      "cell_type": "markdown",
      
      "source": [
        "**Data Processing**\n",
        "\n",
        "We now convert the Pandas DataFrame into a numpy array, for easier use with TensorFlow.\n",
        "\n",
        "We also shuffle the array to avoid any inherent bias in the data."
      ]
    },
  ],
  "metadata": {
    "colab": {
      "provenance": []
    },
    "kernelspec": {
      "display_name": "Python 3",
      "name": "python3"
    },
    "language_info": {
      "name": "python",
      "version": "3.11.4"
    }
  },
  "nbformat": 4,
  "nbformat_minor": 0
}
