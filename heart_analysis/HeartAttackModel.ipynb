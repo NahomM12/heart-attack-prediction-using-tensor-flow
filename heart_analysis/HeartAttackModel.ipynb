{
  "nbformat": 4,
  "nbformat_minor": 0,
  "metadata": {
    "colab": {
      "provenance": []
    },
    "kernelspec": {
      "name": "python3",
      "display_name": "Python 3"
    },
    "language_info": {
      "name": "python"
    }
  },
  "cells": [
    {
      "cell_type": "markdown",
      "source": [],
      "metadata": {
        "id": "-m362ICKatHu"
      }
    },
    {
      "cell_type": "markdown",
      "source": [
        "**Import dependencies**"
      ],
      "metadata": {
        "id": "L9aJT9qAa4CZ"
      }
    },
    {
      "cell_type": "code",
      "execution_count": 2,
      "metadata": {
        "id": "iHbLO1xoZqUG"
      },
      "outputs": [],
      "source": [
        "from __future__ import absolute_import, division, print_function, unicode_literals\n",
        "import numpy as np\n",
        "import pandas as pd\n",
        "import matplotlib.pyplot as plt\n",
        "import tensorflow as tf\n",
        "from tensorflow import keras\n",
        "from tensorflow.keras import layers"
      ]
    },
    {
      "cell_type": "markdown",
      "source": [
        "**Loading data**\n",
        "\n",
        "We being by loading the .csv file using pd.read_csv().\n",
        "\n",
        "Additionally, we see some preliminary stats about the data."
      ],
      "metadata": {
        "id": "h4ArOMwdbaWR"
      }
    },
    {
      "cell_type": "code",
      "source": [],
      "metadata": {
        "id": "qG9U8mLgbk0_"
      },
      "execution_count": null,
      "outputs": []
    }
  ]
}