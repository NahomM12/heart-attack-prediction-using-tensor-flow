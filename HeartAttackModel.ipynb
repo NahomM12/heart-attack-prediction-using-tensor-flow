{
  "nbformat": 4,
  "nbformat_minor": 0,
  "metadata": {
    "colab": {
      "provenance": [],
      "toc_visible": true,
      "authorship_tag": "ABX9TyNVkvJqy0MRa68PN63M45r3",
      "include_colab_link": true
    },
    "kernelspec": {
      "name": "python3",
      "display_name": "Python 3"
    },
    "language_info": {
      "name": "python"
    }
  },
  "cells": [
    {
      "cell_type": "markdown",
      "metadata": {
        "id": "view-in-github",
        "colab_type": "text"
      },
      "source": [
        "<a href=\"https://colab.research.google.com/github/NahomM12/heart-attack-prediction-using-tensor-flow/blob/main/HeartAttackModel.ipynb\" target=\"_parent\"><img src=\"https://colab.research.google.com/assets/colab-badge.svg\" alt=\"Open In Colab\"/></a>"
      ]
    },
    {
      "cell_type": "markdown",
      "source": [
        "**Predicting Heart Attacks With TensorFlow**"
      ],
      "metadata": {
        "id": "VX2sVBBulzIU"
      }
    },
    {
      "cell_type": "code",
      "source": [
        "from __future__ import absolute_import, division, print_function, unicode_literals\n",
        "import numpy as np\n",
        "import pandas as pd\n",
        "import matplotlib.pyplot as plt\n",
        "import tensorflow as tf\n",
        "from tensorflow import keras\n",
        "from tensorflow.keras import layers"
      ],
      "metadata": {
        "id": "pjfHIN8bllYE"
      },
      "execution_count": 1,
      "outputs": []
    },
    {
      "cell_type": "markdown",
      "source": [
        "**Loading data**\n",
        "\n",
        "We being by loading the .csv file using pd.read_csv().\n",
        "\n",
        "Additionally, we see some preliminary stats about the data.\n"
      ],
      "metadata": {
        "id": "DC6JrneHtuF9"
      }
    },
   
  ]
}
